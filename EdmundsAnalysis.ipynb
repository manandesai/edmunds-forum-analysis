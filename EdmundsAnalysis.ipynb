{
 "cells": [
  {
   "cell_type": "markdown",
   "metadata": {
    "colab_type": "text",
    "id": "AfH2VFHs8IDJ"
   },
   "source": [
    "# Edmunds Forum Scraping and Analysis"
   ]
  },
  {
   "cell_type": "markdown",
   "metadata": {
    "colab_type": "text",
    "id": "YdHu4zVsmK97"
   },
   "source": [
    "### Section 1\n",
    "\n",
    "This section scrapes 4500 comments from the following Edmunds forum: https://forums.edmunds.com/discussion/2864/general/x/entry-level-luxury-performance-sedans/\n",
    "\n",
    "This forum contains general comments about entry level luxury performance sedans.\n",
    "\n",
    "After scraping this data is stored in a CSV file with each row containing the date of the comment, username of the commenter, and the comment itself.\n"
   ]
  },
  {
   "cell_type": "code",
   "execution_count": null,
   "metadata": {
    "colab": {},
    "colab_type": "code",
    "id": "-iNxjxhkL4V7"
   },
   "outputs": [],
   "source": [
    "!pip install selenium\n",
    "!apt-get -q update\n",
    "!apt install -yq chromium-chromedriver\n",
    "!cp /usr/lib/chromium-browser/chromedriver /usr/bin\n",
    "\n",
    "import sys\n",
    "sys.path.insert(0,'/usr/lib/chromium-browser/chromedriver')\n",
    "from selenium import webdriver\n",
    "chrome_options = webdriver.ChromeOptions()\n",
    "chrome_options.add_argument('--headless')\n",
    "chrome_options.add_argument('--no-sandbox')\n",
    "chrome_options.add_argument('--disable-dev-shm-usage')"
   ]
  },
  {
   "cell_type": "code",
   "execution_count": 60,
   "metadata": {
    "colab": {},
    "colab_type": "code",
    "id": "VRjMo0uINMIu"
   },
   "outputs": [],
   "source": [
    "import pandas as pd\n",
    "\n",
    "driver = webdriver.Chrome('chromedriver', options=chrome_options)"
   ]
  },
  {
   "cell_type": "code",
   "execution_count": null,
   "metadata": {
    "colab": {},
    "colab_type": "code",
    "id": "7jS_7ybMOlSR"
   },
   "outputs": [],
   "source": [
    "comments = pd.DataFrame(columns = ['Date','user_id','comments'])\n",
    "page = 1\n",
    "while True:\n",
    "    print(len(comments))\n",
    "    if(len(comments.index) >= 4500):\n",
    "    break\n",
    "    driver.get(\"https://forums.edmunds.com/discussion/2864/general/x/entry-level-luxury-performance-sedans/p\" + str(page))\n",
    "    page+=1\n",
    "    ids = driver.find_elements_by_xpath(\"//*[contains(@id,'Comment_')]\")\n",
    "    comment_ids = []\n",
    "    for i in ids:\n",
    "        comment_ids.append(i.get_attribute('id'))\n",
    "    for x in comment_ids:\n",
    "        #Extract dates from for each user on a page\n",
    "        user_date = driver.find_elements_by_xpath('//*[@id=\"' + x +'\"]/div/div[2]/div[2]/span[1]/a/time')[0]\n",
    "        date = user_date.get_attribute('title')\n",
    "\n",
    "        #Extract user ids from each user on a page\n",
    "        userid_element = driver.find_elements_by_xpath('//*[@id=\"' + x +'\"]/div/div[2]/div[1]/span[1]/a[2]')[0]\n",
    "        userid = userid_element.text\n",
    "\n",
    "        #Extract Message for each user on a page\n",
    "        user_message = driver.find_elements_by_xpath('//*[@id=\"' + x +'\"]/div/div[3]/div/div[1]')[0]\n",
    "        comment = user_message.text\n",
    "\n",
    "        #Adding date, userid and comment for each user in a dataframe    \n",
    "        comments.loc[len(comments)] = [date,userid,comment]"
   ]
  },
  {
   "cell_type": "code",
   "execution_count": 62,
   "metadata": {
    "colab": {},
    "colab_type": "code",
    "id": "w_6VEyfg9aFf"
   },
   "outputs": [],
   "source": [
    "comments.to_csv(\"edmunds_comments.csv\", index=False)"
   ]
  },
  {
   "cell_type": "markdown",
   "metadata": {
    "colab_type": "text",
    "id": "HTdfI5YtmqyN"
   },
   "source": [
    "### Section 2\n",
    "This section reads in the CSV file containing 4500 comments and cleans/preprocesses it. It replaces all mentions of models with their respective brands. It then identifies the top 10 brands by frequency (only counting a mention once per post even if the brand is mentioned multiple times). It then calculates lift ratios for associations between the brands and displays a lift matrix. The lift values are then manipulated to make the effects more noticeable for the next step. Finally, it creates a multi-dimensional scaling map to visualize the similarities between the brands."
   ]
  },
  {
   "cell_type": "code",
   "execution_count": 63,
   "metadata": {
    "colab": {
     "base_uri": "https://localhost:8080/",
     "height": 204
    },
    "colab_type": "code",
    "id": "Fyoo7M6G8-KE",
    "outputId": "e5cbd5b7-1a0d-4f3f-dcf7-745e43915e0a"
   },
   "outputs": [
    {
     "data": {
      "text/html": [
       "<div>\n",
       "<style scoped>\n",
       "    .dataframe tbody tr th:only-of-type {\n",
       "        vertical-align: middle;\n",
       "    }\n",
       "\n",
       "    .dataframe tbody tr th {\n",
       "        vertical-align: top;\n",
       "    }\n",
       "\n",
       "    .dataframe thead th {\n",
       "        text-align: right;\n",
       "    }\n",
       "</style>\n",
       "<table border=\"1\" class=\"dataframe\">\n",
       "  <thead>\n",
       "    <tr style=\"text-align: right;\">\n",
       "      <th></th>\n",
       "      <th>Date</th>\n",
       "      <th>user_id</th>\n",
       "      <th>comments</th>\n",
       "    </tr>\n",
       "  </thead>\n",
       "  <tbody>\n",
       "    <tr>\n",
       "      <th>0</th>\n",
       "      <td>March 24, 2002 10:54PM</td>\n",
       "      <td>merc1</td>\n",
       "      <td>I personally think that with a few tweaks the ...</td>\n",
       "    </tr>\n",
       "    <tr>\n",
       "      <th>1</th>\n",
       "      <td>March 25, 2002 12:06AM</td>\n",
       "      <td>fredvh</td>\n",
       "      <td>I am debating a new purchase and these two are...</td>\n",
       "    </tr>\n",
       "    <tr>\n",
       "      <th>2</th>\n",
       "      <td>March 25, 2002 10:02AM</td>\n",
       "      <td>blueguydotcom</td>\n",
       "      <td>Great handling, RWD, excellent engine and the ...</td>\n",
       "    </tr>\n",
       "    <tr>\n",
       "      <th>3</th>\n",
       "      <td>March 25, 2002 4:04PM</td>\n",
       "      <td>hungrywhale</td>\n",
       "      <td>And no manual tranny. That may not matter to y...</td>\n",
       "    </tr>\n",
       "    <tr>\n",
       "      <th>4</th>\n",
       "      <td>March 25, 2002 5:44PM</td>\n",
       "      <td>riez</td>\n",
       "      <td>One beauty of BMW 3 Series is that there are s...</td>\n",
       "    </tr>\n",
       "  </tbody>\n",
       "</table>\n",
       "</div>"
      ],
      "text/plain": [
       "                     Date  ...                                           comments\n",
       "0  March 24, 2002 10:54PM  ...  I personally think that with a few tweaks the ...\n",
       "1  March 25, 2002 12:06AM  ...  I am debating a new purchase and these two are...\n",
       "2  March 25, 2002 10:02AM  ...  Great handling, RWD, excellent engine and the ...\n",
       "3   March 25, 2002 4:04PM  ...  And no manual tranny. That may not matter to y...\n",
       "4   March 25, 2002 5:44PM  ...  One beauty of BMW 3 Series is that there are s...\n",
       "\n",
       "[5 rows x 3 columns]"
      ]
     },
     "execution_count": 63,
     "metadata": {
      "tags": []
     },
     "output_type": "execute_result"
    }
   ],
   "source": [
    "import pandas as pd\n",
    "import numpy as np\n",
    "#following file comes from section 1\n",
    "commentsdf = pd.read_csv(\"edmunds_comments.csv\").dropna()\n",
    "commentsdf[:5]"
   ]
  },
  {
   "cell_type": "code",
   "execution_count": 64,
   "metadata": {
    "colab": {},
    "colab_type": "code",
    "id": "ChPytOxfltfD"
   },
   "outputs": [],
   "source": [
    "#make everything lowercase\n",
    "commentsdf['comments'] = commentsdf['comments'].str.lower()\n",
    "model_brand = pd.read_csv(\"car_models_and_brands.csv\", header=None, names=[\"brand\", \"model\"])\n",
    "brands = list(model_brand[\"brand\"].values)\n",
    "models = list(model_brand[\"model\"].values)\n",
    "def replace_model_with_brand(c):\n",
    "    for i in range(len(models)):\n",
    "        #adding spaces around model to avoid replacing parts of other words\n",
    "        if str(\" \" + models[i] + \" \") in c:\n",
    "            #print(\"REPLACING \", models[i], \" WITH \", brands[i])\n",
    "            c = c.replace(models[i], brands[i])\n",
    "    return c\n",
    "commentsdf['comments'] = commentsdf['comments'].map(replace_model_with_brand)"
   ]
  },
  {
   "cell_type": "code",
   "execution_count": null,
   "metadata": {
    "colab": {},
    "colab_type": "code",
    "id": "DiG6nOcBMrEX"
   },
   "outputs": [],
   "source": [
    "#remove some words from brands list that aren't really brands\n",
    "[brands.remove(word) for word in [\"car\", \"problem\", \"sedan\"] if word in brands]\n",
    "brands_unique = set(brands)\n",
    "brand_counts = {}\n",
    "#initialize empty dict\n",
    "for brand in brands_unique:\n",
    "    brand_counts[brand] = 0\n",
    "\n",
    "def get_brand_counts(c):\n",
    "    for brand in brands_unique:\n",
    "        if brand in c:\n",
    "            brand_counts[brand]+=1\n",
    "commentsdf['comments'].map(get_brand_counts)"
   ]
  },
  {
   "cell_type": "code",
   "execution_count": 66,
   "metadata": {
    "colab": {
     "base_uri": "https://localhost:8080/",
     "height": 204
    },
    "colab_type": "code",
    "id": "mqp3wBlQLIno",
    "outputId": "c3bdc659-3cc4-4641-a7d3-1a7397b80c10"
   },
   "outputs": [
    {
     "data": {
      "text/plain": [
       "bmw         1257\n",
       "acura        522\n",
       "audi         388\n",
       "infiniti     375\n",
       "honda        349\n",
       "nissan       265\n",
       "seat         259\n",
       "toyota       221\n",
       "ford         211\n",
       "subaru       187\n",
       "dtype: int64"
      ]
     },
     "execution_count": 66,
     "metadata": {
      "tags": []
     },
     "output_type": "execute_result"
    }
   ],
   "source": [
    "brand_counts = pd.Series(brand_counts).sort_values(ascending=False)\n",
    "brand_counts[:10]"
   ]
  },
  {
   "cell_type": "code",
   "execution_count": 67,
   "metadata": {
    "colab": {
     "base_uri": "https://localhost:8080/",
     "height": 359
    },
    "colab_type": "code",
    "id": "16R4sLeOMlZz",
    "outputId": "6f99e63f-cdec-4978-f452-e91a340c9f39"
   },
   "outputs": [
    {
     "data": {
      "text/html": [
       "<div>\n",
       "<style scoped>\n",
       "    .dataframe tbody tr th:only-of-type {\n",
       "        vertical-align: middle;\n",
       "    }\n",
       "\n",
       "    .dataframe tbody tr th {\n",
       "        vertical-align: top;\n",
       "    }\n",
       "\n",
       "    .dataframe thead th {\n",
       "        text-align: right;\n",
       "    }\n",
       "</style>\n",
       "<table border=\"1\" class=\"dataframe\">\n",
       "  <thead>\n",
       "    <tr style=\"text-align: right;\">\n",
       "      <th></th>\n",
       "      <th>bmw</th>\n",
       "      <th>acura</th>\n",
       "      <th>audi</th>\n",
       "      <th>infiniti</th>\n",
       "      <th>honda</th>\n",
       "      <th>nissan</th>\n",
       "      <th>seat</th>\n",
       "      <th>toyota</th>\n",
       "      <th>ford</th>\n",
       "      <th>subaru</th>\n",
       "    </tr>\n",
       "  </thead>\n",
       "  <tbody>\n",
       "    <tr>\n",
       "      <th>bmw</th>\n",
       "      <td>NaN</td>\n",
       "      <td>1.60017</td>\n",
       "      <td>1.82161</td>\n",
       "      <td>1.98946</td>\n",
       "      <td>1.21715</td>\n",
       "      <td>1.23926</td>\n",
       "      <td>1.66766</td>\n",
       "      <td>1.35677</td>\n",
       "      <td>1.43799</td>\n",
       "      <td>1.14533</td>\n",
       "    </tr>\n",
       "    <tr>\n",
       "      <th>acura</th>\n",
       "      <td>1.60017</td>\n",
       "      <td>NaN</td>\n",
       "      <td>2.08248</td>\n",
       "      <td>3.00279</td>\n",
       "      <td>2.7339</td>\n",
       "      <td>2.04353</td>\n",
       "      <td>1.32753</td>\n",
       "      <td>1.63359</td>\n",
       "      <td>1.71101</td>\n",
       "      <td>1.7927</td>\n",
       "    </tr>\n",
       "    <tr>\n",
       "      <th>audi</th>\n",
       "      <td>1.82161</td>\n",
       "      <td>2.08248</td>\n",
       "      <td>NaN</td>\n",
       "      <td>2.4054</td>\n",
       "      <td>1.22603</td>\n",
       "      <td>1.30918</td>\n",
       "      <td>2.14322</td>\n",
       "      <td>1.20354</td>\n",
       "      <td>2.02789</td>\n",
       "      <td>1.66973</td>\n",
       "    </tr>\n",
       "    <tr>\n",
       "      <th>infiniti</th>\n",
       "      <td>1.98946</td>\n",
       "      <td>3.00279</td>\n",
       "      <td>2.4054</td>\n",
       "      <td>NaN</td>\n",
       "      <td>1.64566</td>\n",
       "      <td>3.16065</td>\n",
       "      <td>1.57074</td>\n",
       "      <td>1.40769</td>\n",
       "      <td>1.75794</td>\n",
       "      <td>1.7916</td>\n",
       "    </tr>\n",
       "    <tr>\n",
       "      <th>honda</th>\n",
       "      <td>1.21715</td>\n",
       "      <td>2.7339</td>\n",
       "      <td>1.22603</td>\n",
       "      <td>1.64566</td>\n",
       "      <td>NaN</td>\n",
       "      <td>4.31792</td>\n",
       "      <td>1.38992</td>\n",
       "      <td>4.7122</td>\n",
       "      <td>2.13263</td>\n",
       "      <td>1.16879</td>\n",
       "    </tr>\n",
       "    <tr>\n",
       "      <th>nissan</th>\n",
       "      <td>1.23926</td>\n",
       "      <td>2.04353</td>\n",
       "      <td>1.30918</td>\n",
       "      <td>3.16065</td>\n",
       "      <td>4.31792</td>\n",
       "      <td>NaN</td>\n",
       "      <td>1.43825</td>\n",
       "      <td>4.52033</td>\n",
       "      <td>1.68518</td>\n",
       "      <td>1.81092</td>\n",
       "    </tr>\n",
       "    <tr>\n",
       "      <th>seat</th>\n",
       "      <td>1.66766</td>\n",
       "      <td>1.32753</td>\n",
       "      <td>2.14322</td>\n",
       "      <td>1.57074</td>\n",
       "      <td>1.38992</td>\n",
       "      <td>1.43825</td>\n",
       "      <td>NaN</td>\n",
       "      <td>1.88137</td>\n",
       "      <td>1.80633</td>\n",
       "      <td>1.11172</td>\n",
       "    </tr>\n",
       "    <tr>\n",
       "      <th>toyota</th>\n",
       "      <td>1.35677</td>\n",
       "      <td>1.63359</td>\n",
       "      <td>1.20354</td>\n",
       "      <td>1.40769</td>\n",
       "      <td>4.7122</td>\n",
       "      <td>4.52033</td>\n",
       "      <td>1.88137</td>\n",
       "      <td>NaN</td>\n",
       "      <td>2.40559</td>\n",
       "      <td>1.52002</td>\n",
       "    </tr>\n",
       "    <tr>\n",
       "      <th>ford</th>\n",
       "      <td>1.43799</td>\n",
       "      <td>1.71101</td>\n",
       "      <td>2.02789</td>\n",
       "      <td>1.75794</td>\n",
       "      <td>2.13263</td>\n",
       "      <td>1.68518</td>\n",
       "      <td>1.80633</td>\n",
       "      <td>2.40559</td>\n",
       "      <td>NaN</td>\n",
       "      <td>1.47834</td>\n",
       "    </tr>\n",
       "    <tr>\n",
       "      <th>subaru</th>\n",
       "      <td>1.14533</td>\n",
       "      <td>1.7927</td>\n",
       "      <td>1.66973</td>\n",
       "      <td>1.7916</td>\n",
       "      <td>1.16879</td>\n",
       "      <td>1.81092</td>\n",
       "      <td>1.11172</td>\n",
       "      <td>1.52002</td>\n",
       "      <td>1.47834</td>\n",
       "      <td>NaN</td>\n",
       "    </tr>\n",
       "  </tbody>\n",
       "</table>\n",
       "</div>"
      ],
      "text/plain": [
       "              bmw    acura     audi  ...   toyota     ford   subaru\n",
       "bmw           NaN  1.60017  1.82161  ...  1.35677  1.43799  1.14533\n",
       "acura     1.60017      NaN  2.08248  ...  1.63359  1.71101   1.7927\n",
       "audi      1.82161  2.08248      NaN  ...  1.20354  2.02789  1.66973\n",
       "infiniti  1.98946  3.00279   2.4054  ...  1.40769  1.75794   1.7916\n",
       "honda     1.21715   2.7339  1.22603  ...   4.7122  2.13263  1.16879\n",
       "nissan    1.23926  2.04353  1.30918  ...  4.52033  1.68518  1.81092\n",
       "seat      1.66766  1.32753  2.14322  ...  1.88137  1.80633  1.11172\n",
       "toyota    1.35677  1.63359  1.20354  ...      NaN  2.40559  1.52002\n",
       "ford      1.43799  1.71101  2.02789  ...  2.40559      NaN  1.47834\n",
       "subaru    1.14533   1.7927  1.66973  ...  1.52002  1.47834      NaN\n",
       "\n",
       "[10 rows x 10 columns]"
      ]
     },
     "execution_count": 67,
     "metadata": {
      "tags": []
     },
     "output_type": "execute_result"
    }
   ],
   "source": [
    "def get_lift(b1, b2):\n",
    "    freq_b1 = brand_counts[b1]\n",
    "    freq_b2 = brand_counts[b2]\n",
    "    freq_both = 0\n",
    "    for comment in list(commentsdf['comments'].values):\n",
    "        if b1 in comment and b2 in comment:\n",
    "            freq_both += 1\n",
    "    #calculate lift\n",
    "    return (len(commentsdf)*freq_both)/(freq_b1*freq_b2)\n",
    "\n",
    "brand_lifts = pd.DataFrame(index=brand_counts[:10].index, columns=brand_counts[:10].index)\n",
    "for brand1 in brand_counts[:10].index:\n",
    "    for brand2 in brand_counts[:10].index:\n",
    "        if brand1==brand2:\n",
    "            continue\n",
    "        else:\n",
    "            brand_lifts.loc[brand1, brand2] = get_lift(brand1, brand2)\n",
    "brand_lifts"
   ]
  },
  {
   "cell_type": "code",
   "execution_count": 68,
   "metadata": {
    "colab": {
     "base_uri": "https://localhost:8080/",
     "height": 359
    },
    "colab_type": "code",
    "id": "gWHwPhGMPL2Q",
    "outputId": "838ce844-131b-4a1f-93f2-28ad85785f9f"
   },
   "outputs": [
    {
     "data": {
      "text/html": [
       "<div>\n",
       "<style scoped>\n",
       "    .dataframe tbody tr th:only-of-type {\n",
       "        vertical-align: middle;\n",
       "    }\n",
       "\n",
       "    .dataframe tbody tr th {\n",
       "        vertical-align: top;\n",
       "    }\n",
       "\n",
       "    .dataframe thead th {\n",
       "        text-align: right;\n",
       "    }\n",
       "</style>\n",
       "<table border=\"1\" class=\"dataframe\">\n",
       "  <thead>\n",
       "    <tr style=\"text-align: right;\">\n",
       "      <th></th>\n",
       "      <th>bmw</th>\n",
       "      <th>acura</th>\n",
       "      <th>audi</th>\n",
       "      <th>infiniti</th>\n",
       "      <th>honda</th>\n",
       "      <th>nissan</th>\n",
       "      <th>seat</th>\n",
       "      <th>toyota</th>\n",
       "      <th>ford</th>\n",
       "      <th>subaru</th>\n",
       "    </tr>\n",
       "  </thead>\n",
       "  <tbody>\n",
       "    <tr>\n",
       "      <th>bmw</th>\n",
       "      <td>NaN</td>\n",
       "      <td>2.02418</td>\n",
       "      <td>2.45856</td>\n",
       "      <td>2.8061</td>\n",
       "      <td>1.34281</td>\n",
       "      <td>1.37957</td>\n",
       "      <td>2.15357</td>\n",
       "      <td>1.58038</td>\n",
       "      <td>1.72439</td>\n",
       "      <td>1.22573</td>\n",
       "    </tr>\n",
       "    <tr>\n",
       "      <th>acura</th>\n",
       "      <td>2.02418</td>\n",
       "      <td>NaN</td>\n",
       "      <td>3.00519</td>\n",
       "      <td>5.20341</td>\n",
       "      <td>4.52038</td>\n",
       "      <td>2.92126</td>\n",
       "      <td>1.52957</td>\n",
       "      <td>2.08792</td>\n",
       "      <td>2.2381</td>\n",
       "      <td>2.40029</td>\n",
       "    </tr>\n",
       "    <tr>\n",
       "      <th>audi</th>\n",
       "      <td>2.45856</td>\n",
       "      <td>3.00519</td>\n",
       "      <td>NaN</td>\n",
       "      <td>3.73062</td>\n",
       "      <td>1.35753</td>\n",
       "      <td>1.49796</td>\n",
       "      <td>3.13761</td>\n",
       "      <td>1.32035</td>\n",
       "      <td>2.88779</td>\n",
       "      <td>2.15759</td>\n",
       "    </tr>\n",
       "    <tr>\n",
       "      <th>infiniti</th>\n",
       "      <td>2.8061</td>\n",
       "      <td>5.20341</td>\n",
       "      <td>3.73062</td>\n",
       "      <td>NaN</td>\n",
       "      <td>2.11111</td>\n",
       "      <td>5.61908</td>\n",
       "      <td>1.96859</td>\n",
       "      <td>1.67016</td>\n",
       "      <td>2.33081</td>\n",
       "      <td>2.39807</td>\n",
       "    </tr>\n",
       "    <tr>\n",
       "      <th>honda</th>\n",
       "      <td>1.34281</td>\n",
       "      <td>4.52038</td>\n",
       "      <td>1.35753</td>\n",
       "      <td>2.11111</td>\n",
       "      <td>NaN</td>\n",
       "      <td>8.97247</td>\n",
       "      <td>1.63864</td>\n",
       "      <td>10.229</td>\n",
       "      <td>3.1144</td>\n",
       "      <td>1.26359</td>\n",
       "    </tr>\n",
       "    <tr>\n",
       "      <th>nissan</th>\n",
       "      <td>1.37957</td>\n",
       "      <td>2.92126</td>\n",
       "      <td>1.49796</td>\n",
       "      <td>5.61908</td>\n",
       "      <td>8.97247</td>\n",
       "      <td>NaN</td>\n",
       "      <td>1.72484</td>\n",
       "      <td>9.6107</td>\n",
       "      <td>2.18761</td>\n",
       "      <td>2.43696</td>\n",
       "    </tr>\n",
       "    <tr>\n",
       "      <th>seat</th>\n",
       "      <td>2.15357</td>\n",
       "      <td>1.52957</td>\n",
       "      <td>3.13761</td>\n",
       "      <td>1.96859</td>\n",
       "      <td>1.63864</td>\n",
       "      <td>1.72484</td>\n",
       "      <td>NaN</td>\n",
       "      <td>2.58055</td>\n",
       "      <td>2.4277</td>\n",
       "      <td>1.17218</td>\n",
       "    </tr>\n",
       "    <tr>\n",
       "      <th>toyota</th>\n",
       "      <td>1.58038</td>\n",
       "      <td>2.08792</td>\n",
       "      <td>1.32035</td>\n",
       "      <td>1.67016</td>\n",
       "      <td>10.229</td>\n",
       "      <td>9.6107</td>\n",
       "      <td>2.58055</td>\n",
       "      <td>NaN</td>\n",
       "      <td>3.73106</td>\n",
       "      <td>1.87402</td>\n",
       "    </tr>\n",
       "    <tr>\n",
       "      <th>ford</th>\n",
       "      <td>1.72439</td>\n",
       "      <td>2.2381</td>\n",
       "      <td>2.88779</td>\n",
       "      <td>2.33081</td>\n",
       "      <td>3.1144</td>\n",
       "      <td>2.18761</td>\n",
       "      <td>2.4277</td>\n",
       "      <td>3.73106</td>\n",
       "      <td>NaN</td>\n",
       "      <td>1.79748</td>\n",
       "    </tr>\n",
       "    <tr>\n",
       "      <th>subaru</th>\n",
       "      <td>1.22573</td>\n",
       "      <td>2.40029</td>\n",
       "      <td>2.15759</td>\n",
       "      <td>2.39807</td>\n",
       "      <td>1.26359</td>\n",
       "      <td>2.43696</td>\n",
       "      <td>1.17218</td>\n",
       "      <td>1.87402</td>\n",
       "      <td>1.79748</td>\n",
       "      <td>NaN</td>\n",
       "    </tr>\n",
       "  </tbody>\n",
       "</table>\n",
       "</div>"
      ],
      "text/plain": [
       "              bmw    acura     audi  ...   toyota     ford   subaru\n",
       "bmw           NaN  2.02418  2.45856  ...  1.58038  1.72439  1.22573\n",
       "acura     2.02418      NaN  3.00519  ...  2.08792   2.2381  2.40029\n",
       "audi      2.45856  3.00519      NaN  ...  1.32035  2.88779  2.15759\n",
       "infiniti   2.8061  5.20341  3.73062  ...  1.67016  2.33081  2.39807\n",
       "honda     1.34281  4.52038  1.35753  ...   10.229   3.1144  1.26359\n",
       "nissan    1.37957  2.92126  1.49796  ...   9.6107  2.18761  2.43696\n",
       "seat      2.15357  1.52957  3.13761  ...  2.58055   2.4277  1.17218\n",
       "toyota    1.58038  2.08792  1.32035  ...      NaN  3.73106  1.87402\n",
       "ford      1.72439   2.2381  2.88779  ...  3.73106      NaN  1.79748\n",
       "subaru    1.22573  2.40029  2.15759  ...  1.87402  1.79748      NaN\n",
       "\n",
       "[10 rows x 10 columns]"
      ]
     },
     "execution_count": 68,
     "metadata": {
      "tags": []
     },
     "output_type": "execute_result"
    }
   ],
   "source": [
    "#make lifts a little more exaggerated so mds map will be easier to visualize\n",
    "brand_lifts = brand_lifts.pow(1.5)\n",
    "brand_lifts"
   ]
  },
  {
   "cell_type": "code",
   "execution_count": 69,
   "metadata": {
    "colab": {
     "base_uri": "https://localhost:8080/",
     "height": 265
    },
    "colab_type": "code",
    "id": "SUZpIcvpoY4x",
    "outputId": "5e906f6f-4b25-451c-ff49-fea9fee4e270"
   },
   "outputs": [
    {
     "data": {
      "image/png": "[encoded data removed]",
      "text/plain": [
       "<Figure size 432x288 with 1 Axes>"
      ]
     },
     "metadata": {
      "needs_background": "light",
      "tags": []
     },
     "output_type": "display_data"
    }
   ],
   "source": [
    "#convert similarity (lifts) to dissimilarity\n",
    "brand_lifts = 1/brand_lifts\n",
    "#replace the diagonal with 0s\n",
    "for i in range(10):\n",
    "    brand_lifts.iloc[i,i] = 0\n",
    "\n",
    "#plot MDS map\n",
    "from sklearn import manifold\n",
    "from matplotlib import pyplot as plt\n",
    "mds = manifold.MDS(n_components=2, max_iter=3000,dissimilarity=\"precomputed\", random_state=1)\n",
    "pos = mds.fit_transform(brand_lifts)\n",
    "plt.scatter(pos[:, 0], pos[:, 1], color='turquoise', s=100, lw=0, label='MDS')\n",
    "for i, label in enumerate(brand_lifts.index.values):\n",
    "    plt.annotate(label, (pos[:,0][i], pos[:,1][i]))\n",
    "plt.show()"
   ]
  },
  {
   "cell_type": "markdown",
   "metadata": {
    "colab_type": "text",
    "id": "PhaYFkLjniqp"
   },
   "source": [
    "### Section 3\n",
    "This section summarizes insights that we can offer brand managers from the analysis in Task A. Specifically, we choose Toyota, Honda, and Nissan to focus on."
   ]
  },
  {
   "cell_type": "markdown",
   "metadata": {
    "colab_type": "text",
    "id": "_CBfHqHJ6uQ3"
   },
   "source": [
    "From the lift table, we found that people who mentioned Honda are likely to also mention Toyota or people who mention Toyota are likely to mention Honda at the same time. In other words, these brands often appear in the same comment. Others, such as Honda and Nissan, Toyota and Nissan, have relatively high lift values as well.\n",
    "\n",
    "Interestingly, these three brands are all major Japanese brands, so they are often compared together by consumers. In the plot, we can also see that these brands are close to each other, which means customers buying one brand are likely to consider switching between these three brands.\n",
    "\n",
    "Why do people like Japanese cars? The reason is probably because of practicality and efficiency rule. Japanese automobile manufacturer will strictly control every process of producing a car, and the quality of the parts they make is high. In addition, they have plenty of fun family minivan and SUV options to choose from.\n",
    "\n",
    "I would suggest brand managers compare these brands together, keep the common features, and improve the features of other brands that their own brands do not have. The marketing department can also investigate what consumers like among these brands and advertise on these characteristics. Moreover, if you are a Toyota company, users of Nissan and Honda may be your potential customers."
   ]
  },
  {
   "cell_type": "markdown",
   "metadata": {
    "colab_type": "text",
    "id": "lnzK2R8NnzWK"
   },
   "source": [
    "### Section 4\n",
    "This section finds the 5 most frequently mentioned attributes of cars. It does this by word tokenizing the comments, removing punctuation and stopwords, and then finding frequency. It only counts each word once per comment even if it appears multiple times. The list is then filtered to find the 5 most frequently mentioned attributes.\n",
    "\n",
    "We then find the lift ratios between the top 5 attributes and the top 5 brands (brands identified from task A)."
   ]
  },
  {
   "cell_type": "code",
   "execution_count": null,
   "metadata": {
    "colab": {},
    "colab_type": "code",
    "id": "Ud1deilXRosx"
   },
   "outputs": [],
   "source": [
    "import nltk\n",
    "from nltk.tokenize import word_tokenize\n",
    "from nltk.corpus import stopwords\n",
    "nltk.download('punkt')\n",
    "nltk.download('stopwords')\n",
    "stop_words = set(stopwords.words('english'))\n",
    "word_freq = {}\n",
    "def get_word_freq(c):\n",
    "    #take set because we only want to count a word once per comment\n",
    "    tokens = set(word_tokenize(c))\n",
    "    for token in tokens:\n",
    "    #disregard if it is punctuation or stop word\n",
    "    if (not token.isalpha()) or (token in stop_words):\n",
    "        continue\n",
    "    if token not in word_freq:\n",
    "        word_freq[token] = 1\n",
    "    else:\n",
    "        word_freq[token] += 1\n",
    "    return None\n",
    "commentsdf['comments'].map(get_word_freq)\n",
    "freq_df = pd.Series(word_freq)\n",
    "freq_df = freq_df.sort_values(ascending=False)"
   ]
  },
  {
   "cell_type": "code",
   "execution_count": 71,
   "metadata": {
    "colab": {
     "base_uri": "https://localhost:8080/",
     "height": 884
    },
    "colab_type": "code",
    "id": "jvNUhFpbrnxD",
    "outputId": "bb0b6238-5537-49ec-81ac-1030c698dead"
   },
   "outputs": [
    {
     "data": {
      "text/plain": [
       "car            2202\n",
       "bmw            1215\n",
       "like           1145\n",
       "one            1033\n",
       "would          1015\n",
       "tl              947\n",
       "get             905\n",
       "think           871\n",
       "better          663\n",
       "much            661\n",
       "even            630\n",
       "drive           627\n",
       "performance     603\n",
       "new             596\n",
       "people          588\n",
       "good            587\n",
       "know            580\n",
       "sedan           567\n",
       "really          561\n",
       "best            525\n",
       "well            525\n",
       "also            515\n",
       "acura           493\n",
       "still           487\n",
       "want            484\n",
       "say             482\n",
       "could           467\n",
       "time            462\n",
       "driving         460\n",
       "way             448\n",
       "see             445\n",
       "make            443\n",
       "go              425\n",
       "luxury          402\n",
       "engine          400\n",
       "buy             398\n",
       "series          381\n",
       "price           375\n",
       "great           373\n",
       "going           369\n",
       "right           367\n",
       "take            363\n",
       "many            359\n",
       "less            356\n",
       "got             355\n",
       "infiniti        350\n",
       "power           350\n",
       "look            345\n",
       "handling        338\n",
       "audi            338\n",
       "dtype: int64"
      ]
     },
     "execution_count": 71,
     "metadata": {
      "tags": []
     },
     "output_type": "execute_result"
    }
   ],
   "source": [
    "freq_df[:50]"
   ]
  },
  {
   "cell_type": "markdown",
   "metadata": {
    "colab_type": "text",
    "id": "zJKl2dIUwHGJ"
   },
   "source": [
    "This list has a lot of words that are not really attributes but moreso filler words. Scanning through the list, it looks like the first 5 attributes mentioned are **performance, luxury, engine, price** and **handling**."
   ]
  },
  {
   "cell_type": "code",
   "execution_count": 72,
   "metadata": {
    "colab": {},
    "colab_type": "code",
    "id": "UGEJ0hpBwej-"
   },
   "outputs": [],
   "source": [
    "top5_attr = [\"performance\", \"luxury\", \"engine\", \"price\", \"handling\"]"
   ]
  },
  {
   "cell_type": "code",
   "execution_count": 73,
   "metadata": {
    "colab": {
     "base_uri": "https://localhost:8080/",
     "height": 204
    },
    "colab_type": "code",
    "id": "rXWWbbckxUFI",
    "outputId": "d1a5d4ba-12e8-44d3-ad19-ac3eb676d563"
   },
   "outputs": [
    {
     "data": {
      "text/html": [
       "<div>\n",
       "<style scoped>\n",
       "    .dataframe tbody tr th:only-of-type {\n",
       "        vertical-align: middle;\n",
       "    }\n",
       "\n",
       "    .dataframe tbody tr th {\n",
       "        vertical-align: top;\n",
       "    }\n",
       "\n",
       "    .dataframe thead th {\n",
       "        text-align: right;\n",
       "    }\n",
       "</style>\n",
       "<table border=\"1\" class=\"dataframe\">\n",
       "  <thead>\n",
       "    <tr style=\"text-align: right;\">\n",
       "      <th></th>\n",
       "      <th>performance</th>\n",
       "      <th>luxury</th>\n",
       "      <th>engine</th>\n",
       "      <th>price</th>\n",
       "      <th>handling</th>\n",
       "    </tr>\n",
       "  </thead>\n",
       "  <tbody>\n",
       "    <tr>\n",
       "      <th>bmw</th>\n",
       "      <td>1.580574</td>\n",
       "      <td>1.491777</td>\n",
       "      <td>1.838349</td>\n",
       "      <td>2.084652</td>\n",
       "      <td>1.795366</td>\n",
       "    </tr>\n",
       "    <tr>\n",
       "      <th>acura</th>\n",
       "      <td>1.596564</td>\n",
       "      <td>2.159638</td>\n",
       "      <td>1.977031</td>\n",
       "      <td>1.948378</td>\n",
       "      <td>1.754761</td>\n",
       "    </tr>\n",
       "    <tr>\n",
       "      <th>audi</th>\n",
       "      <td>1.457540</td>\n",
       "      <td>1.495897</td>\n",
       "      <td>2.312887</td>\n",
       "      <td>2.497918</td>\n",
       "      <td>1.642286</td>\n",
       "    </tr>\n",
       "    <tr>\n",
       "      <th>infiniti</th>\n",
       "      <td>1.607284</td>\n",
       "      <td>1.785871</td>\n",
       "      <td>1.824713</td>\n",
       "      <td>2.042084</td>\n",
       "      <td>1.522217</td>\n",
       "    </tr>\n",
       "    <tr>\n",
       "      <th>honda</th>\n",
       "      <td>1.449847</td>\n",
       "      <td>1.982879</td>\n",
       "      <td>2.024936</td>\n",
       "      <td>2.297070</td>\n",
       "      <td>1.559545</td>\n",
       "    </tr>\n",
       "  </tbody>\n",
       "</table>\n",
       "</div>"
      ],
      "text/plain": [
       "          performance    luxury    engine     price  handling\n",
       "bmw          1.580574  1.491777  1.838349  2.084652  1.795366\n",
       "acura        1.596564  2.159638  1.977031  1.948378  1.754761\n",
       "audi         1.457540  1.495897  2.312887  2.497918  1.642286\n",
       "infiniti     1.607284  1.785871  1.824713  2.042084  1.522217\n",
       "honda        1.449847  1.982879  2.024936  2.297070  1.559545"
      ]
     },
     "execution_count": 73,
     "metadata": {
      "tags": []
     },
     "output_type": "execute_result"
    }
   ],
   "source": [
    "def get_brand_attr_lift(b, a):\n",
    "    freq_b = brand_counts[b]\n",
    "    freq_a = freq_df[a]\n",
    "    freq_both = 0\n",
    "    for comment in list(commentsdf['comments'].values):\n",
    "        if b in comment and a in comment:\n",
    "            freq_both += 1\n",
    "  #calculate lift\n",
    "  return (len(commentsdf)*freq_both)/(freq_b*freq_a)\n",
    "\n",
    "brand_attr_lifts = pd.DataFrame(data = 0, index = brand_counts[:5].index, columns=top5_attr)\n",
    "for brand in brand_counts[:5].index:\n",
    "    for attr in top5_attr:\n",
    "        brand_attr_lifts.loc[brand, attr] = get_brand_attr_lift(brand, attr)\n",
    "brand_attr_lifts"
   ]
  },
  {
   "cell_type": "markdown",
   "metadata": {
    "colab_type": "text",
    "id": "yeC4EN0roOmL"
   },
   "source": [
    "### Section 5\n",
    "This section summarizes the advice we would give to a product manager and marketing manager of these brands based on the analysis from the previous task."
   ]
  },
  {
   "cell_type": "markdown",
   "metadata": {
    "colab_type": "text",
    "id": "2IyamHAK6kD7"
   },
   "source": [
    "**BMW**\\\n",
    "*Product Manager* - The main thing a product manager should focus on is increaasing the perceived luxury of BMW's. It seems as though BMW should have a high association with luxury however it is its lowest brand attribute lift of the top five.\\\n",
    "*Marketing/Advertising Manager* -The marketing manager should put in an effort to emphasize the engine of the BMW as well as the price. These have the two highest lift values and is what many associate with BMW.\\\n",
    "**Acura**\\\n",
    "*Product Manager* - The product manager should try to increase the percieved performance of Acura's, as they have a low lift value.\\\n",
    "*Marketing/Advertising Manager* - Emphasizing the luxury of Acuras would work well as it has a very high lift value and is the highest of these five brands.\\\n",
    "**Audi**\\\n",
    "*Product Manager* - The product manager needs to focus on improving the performance and luxury aspects of their Audis.\\\n",
    "*Marketing/Advertising Manager* - The marketing manager should focus on advertising both the engine of the Audi as well as the price.\\\n",
    "**Infiniti**\\\n",
    "*Product Manager* - The handling aspect of Infiniti cars needs to be improved as it has the lowest lift of all five brands.\\\n",
    "*Marketing/Advertising Manager* - The marketing manager should focus on ephasizing the price of the cars.\\\n",
    "**Honda**\\\n",
    "*Product Manager* - The Honda product manager really needs to focus on improving the performance and handling of their cars.\\\n",
    "*Marketing/Advertising Manager* - The marketing manager can focus on luxury, engine and/or price, as they all have high lift values."
   ]
  },
  {
   "cell_type": "markdown",
   "metadata": {
    "colab_type": "text",
    "id": "cmzavojyotAj"
   },
   "source": [
    "### Section 6\n",
    "In this section, we explore which brand is most *aspirational* in terms of people wanting to buy or own and then briefly summarize the business implications for the brand."
   ]
  },
  {
   "cell_type": "code",
   "execution_count": null,
   "metadata": {
    "colab": {},
    "colab_type": "code",
    "id": "VGG6RqFNgDxi"
   },
   "outputs": [],
   "source": [
    "#aspirational.csv contains the following phrases\n",
    "#which we replace with the word 'aspirational'\n",
    "#\"want to buy\",\"wish to buy\",\"hope to buy\",\"want to own\",\"wish to own\",\"dream car\",\"hope to own\",\"desire to buy\",\"desire to own\",\"want to purchase\",\"wish to purchas\",\"hope to purchase\",\"desire to purchase\",\"wanting\",\"hoping\",\"wishing\",\"dreaming\"\n",
    "asp_list = pd.read_csv(\"aspirational.csv\", header=None, names=[\"aspirational\", \"terms\"])\n",
    "asp_terms = list(asp_list[\"terms\"].values)\n",
    "def replace_terms_with_asp(c):\n",
    "    for i in range(len(asp_terms)):\n",
    "    #adding spaces around term to avoid replacing parts of other words\n",
    "    if str(\" \" + asp_terms[i] + \" \") in c:\n",
    "        c = c.replace(asp_terms[i], \"aspirational\")\n",
    "    return c\n",
    "commentsdf['comments'] = commentsdf['comments'].map(replace_terms_with_asp)\n",
    "\n",
    "#get brand counts again but also get \"aspirational\" counts\n",
    "brands_and_asp = list(brands_unique) + ['aspirational']\n",
    "brand_asp_counts = {}\n",
    "#initialize empty dict\n",
    "for brand_asp in brands_and_asp:\n",
    "    brand_asp_counts[brand_asp] = 0\n",
    "def get_brand_asp_counts(c):\n",
    "    for brand_asp in brands_and_asp:\n",
    "        if brand_asp in c:\n",
    "            brand_asp_counts[brand_asp]+=1\n",
    "commentsdf['comments'].map(get_brand_asp_counts)"
   ]
  },
  {
   "cell_type": "code",
   "execution_count": 75,
   "metadata": {
    "colab": {
     "base_uri": "https://localhost:8080/",
     "height": 221
    },
    "colab_type": "code",
    "id": "l1KSHKV5gu6n",
    "outputId": "c4fd609a-cab4-48c3-a282-f3c97f6d26d1"
   },
   "outputs": [
    {
     "data": {
      "text/plain": [
       "bmw             1257\n",
       "acura            522\n",
       "audi             388\n",
       "infiniti         375\n",
       "honda            349\n",
       "nissan           265\n",
       "seat             259\n",
       "toyota           221\n",
       "ford             211\n",
       "subaru           187\n",
       "aspirational      39\n",
       "dtype: int64"
      ]
     },
     "execution_count": 75,
     "metadata": {
      "tags": []
     },
     "output_type": "execute_result"
    }
   ],
   "source": [
    "brand_asp_counts = pd.Series(brand_asp_counts).sort_values(ascending=False)\n",
    "brands_asp_list = brand_asp_counts[:10].index.tolist() + ['aspirational']\n",
    "brands_asp_freq = brand_asp_counts[brands_asp_list]\n",
    "brands_asp_freq"
   ]
  },
  {
   "cell_type": "code",
   "execution_count": 76,
   "metadata": {
    "colab": {
     "base_uri": "https://localhost:8080/",
     "height": 359
    },
    "colab_type": "code",
    "id": "EKb9Taukg1wo",
    "outputId": "01b07a5e-0855-4601-ab02-ab27068110ab"
   },
   "outputs": [
    {
     "data": {
      "text/html": [
       "<div>\n",
       "<style scoped>\n",
       "    .dataframe tbody tr th:only-of-type {\n",
       "        vertical-align: middle;\n",
       "    }\n",
       "\n",
       "    .dataframe tbody tr th {\n",
       "        vertical-align: top;\n",
       "    }\n",
       "\n",
       "    .dataframe thead th {\n",
       "        text-align: right;\n",
       "    }\n",
       "</style>\n",
       "<table border=\"1\" class=\"dataframe\">\n",
       "  <thead>\n",
       "    <tr style=\"text-align: right;\">\n",
       "      <th></th>\n",
       "      <th>aspirational</th>\n",
       "    </tr>\n",
       "  </thead>\n",
       "  <tbody>\n",
       "    <tr>\n",
       "      <th>ford</th>\n",
       "      <td>3.271600</td>\n",
       "    </tr>\n",
       "    <tr>\n",
       "      <th>infiniti</th>\n",
       "      <td>3.068034</td>\n",
       "    </tr>\n",
       "    <tr>\n",
       "      <th>seat</th>\n",
       "      <td>2.221067</td>\n",
       "    </tr>\n",
       "    <tr>\n",
       "      <th>bmw</th>\n",
       "      <td>1.647512</td>\n",
       "    </tr>\n",
       "    <tr>\n",
       "      <th>acura</th>\n",
       "      <td>1.322429</td>\n",
       "    </tr>\n",
       "    <tr>\n",
       "      <th>toyota</th>\n",
       "      <td>1.041188</td>\n",
       "    </tr>\n",
       "    <tr>\n",
       "      <th>honda</th>\n",
       "      <td>0.988980</td>\n",
       "    </tr>\n",
       "    <tr>\n",
       "      <th>audi</th>\n",
       "      <td>0.889572</td>\n",
       "    </tr>\n",
       "    <tr>\n",
       "      <th>subaru</th>\n",
       "      <td>0.615247</td>\n",
       "    </tr>\n",
       "    <tr>\n",
       "      <th>nissan</th>\n",
       "      <td>0.434156</td>\n",
       "    </tr>\n",
       "  </tbody>\n",
       "</table>\n",
       "</div>"
      ],
      "text/plain": [
       "          aspirational\n",
       "ford          3.271600\n",
       "infiniti      3.068034\n",
       "seat          2.221067\n",
       "bmw           1.647512\n",
       "acura         1.322429\n",
       "toyota        1.041188\n",
       "honda         0.988980\n",
       "audi          0.889572\n",
       "subaru        0.615247\n",
       "nissan        0.434156"
      ]
     },
     "execution_count": 76,
     "metadata": {
      "tags": []
     },
     "output_type": "execute_result"
    }
   ],
   "source": [
    "# not changed\n",
    "def get_lift(b1, b2):\n",
    "    freq_b1 = brand_asp_counts[b1]\n",
    "    freq_b2 = brand_asp_counts[b2]\n",
    "    freq_both = 0\n",
    "    for comment in list(commentsdf['comments'].values):\n",
    "        if b1 in comment and b2 in comment:\n",
    "            freq_both += 1\n",
    "    #calculate lift\n",
    "    return (len(commentsdf)*freq_both)/(freq_b1*freq_b2)\n",
    "\n",
    "# changed index and columns!!!!\n",
    "brand_lifts = pd.DataFrame(index=brands_asp_freq.index, columns=brands_asp_freq.index, data=1)\n",
    "for brand1 in brands_asp_freq.index:\n",
    "    for brand2 in brands_asp_freq.index:\n",
    "        if brand1==brand2:\n",
    "            continue\n",
    "        else:\n",
    "            brand_lifts.loc[brand1, brand2] = get_lift(brand1, brand2)\n",
    "# check aspriations\n",
    "brand_lifts.iloc[0:10,[10]].sort_values(by='aspirational', ascending=False)"
   ]
  },
  {
   "cell_type": "markdown",
   "metadata": {
    "colab_type": "text",
    "id": "4MdCfXgAhqKY"
   },
   "source": [
    "Analyzing the top 10 most frequently discussed brands on the forum for their aspirationality we got unintuitive and interesting results. We related aspirationality to several diferent unigrams, bigrams, and trigrams to capture the broad sentiment of aspiration. The terms we used were: *want to buy, wish to buy, hope to buy, want to own, wish to own, dream car, hope to own, desire to buy, desire to own, want to purchase, wish to purchase, hope to purchase, desire to purchase, wanting, hoping, wishing, and dreaming.* \n",
    "\n",
    "We felt these words capture much of the aspirational sentiment. We replaced the terms with 'aspirational' and conducted a lift analysis accross the top 10 most frequent brands. This resulted in 39 incidences of use in a post and a lift range of 3.2716 to 0.434156. Of the results, Ford was the most aspirational brand at 3.2716, with infiniti not far behind at 3.068034. \n",
    "\n",
    "This is interesting because Ford is typically considered a working class brand and the discussion was pulled form a luxury performance sedan forum. One potential cause is that Ford was actually an unaspirational brand and people 'want to buy' or aspire to own another vechicle but, since people reference Ford in the post, it contributes to the lift. Another thing to note is that the support for these lifts are all quite low, which could be further skewing results.\n",
    "\n",
    "However, assuming the analysis correct, this has strong marketing, sales, and design implications for Ford. The brand can use aspirational phrases and slogans to connect with the consumer in its advertisment. It could also conduct an aspiration deal which applies to savings if switching cars. Or it could introduce a sport fusion to pick up on the clean looks and performance associated with luxury performance sedans. Regardless of the specific implication, this insight can be very useful to Ford."
   ]
  }
 ],
 "metadata": {
  "colab": {
   "name": "TextAnalyticsHW1.ipynb",
   "provenance": []
  },
  "kernelspec": {
   "display_name": "Python 3",
   "language": "python",
   "name": "python3"
  },
  "language_info": {
   "codemirror_mode": {
    "name": "ipython",
    "version": 3
   },
   "file_extension": ".py",
   "mimetype": "text/x-python",
   "name": "python",
   "nbconvert_exporter": "python",
   "pygments_lexer": "ipython3",
   "version": "3.7.6"
  }
 },
 "nbformat": 4,
 "nbformat_minor": 1
}
